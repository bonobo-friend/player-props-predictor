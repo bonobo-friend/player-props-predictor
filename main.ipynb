{
 "cells": [
  {
   "cell_type": "markdown",
   "metadata": {},
   "source": [
    "## TODO\n",
    "\n",
    "Need to incorporate player offensive rating and team defensive rating somehow. Potential uses could be adding/subtracting to the montecarlo mean, or even using it to scale it."
   ]
  },
  {
   "cell_type": "code",
   "execution_count": 133,
   "metadata": {},
   "outputs": [],
   "source": [
    "import pandas as pd\n",
    "import urllib\n",
    "import bs4 as bs\n",
    "import numpy as np"
   ]
  },
  {
   "cell_type": "code",
   "execution_count": 134,
   "metadata": {},
   "outputs": [],
   "source": [
    "team_conferences = {\n",
    "    'Atlanta Hawks': 'Eastern',\n",
    "    'Boston Celtics': 'Eastern',\n",
    "    'Brooklyn Nets': 'Eastern',\n",
    "    'Charlotte Hornets': 'Eastern',\n",
    "    'Chicago Bulls': 'Eastern',\n",
    "    'Cleveland Cavaliers': 'Eastern',\n",
    "    'Detroit Pistons': 'Eastern',\n",
    "    'Indiana Pacers': 'Eastern',\n",
    "    'Miami Heat': 'Eastern',\n",
    "    'Milwaukee Bucks': 'Eastern',\n",
    "    'New York Knicks': 'Eastern',\n",
    "    'Orlando Magic': 'Eastern',\n",
    "    'Philadelphia 76ers': 'Eastern',\n",
    "    'Toronto Raptors': 'Eastern',\n",
    "    'Washington Wizards': 'Eastern',\n",
    "    'Dallas Mavericks': 'Western',\n",
    "    'Denver Nuggets': 'Western',\n",
    "    'Golden State Warriors': 'Western',\n",
    "    'Houston Rockets': 'Western',\n",
    "    'Los Angeles Clippers': 'Western',\n",
    "    'Los Angeles Lakers': 'Western',\n",
    "    'Memphis Grizzlies': 'Western',\n",
    "    'Minnesota Timberwolves': 'Western',\n",
    "    'New Orleans Pelicans': 'Western',\n",
    "    'Oklahoma City Thunder': 'Western',\n",
    "    'Phoenix Suns': 'Western',\n",
    "    'Portland Trail Blazers': 'Western',\n",
    "    'Sacramento Kings': 'Western',\n",
    "    'San Antonio Spurs': 'Western',\n",
    "    'Utah Jazz': 'Western'\n",
    "}"
   ]
  },
  {
   "cell_type": "code",
   "execution_count": 135,
   "metadata": {},
   "outputs": [],
   "source": [
    "# Parameters\n",
    "\n",
    "url = \"https://www.teamrankings.com/nba/player/nikola-jokic/game-log\"\n",
    "\n",
    "opponent = \"Los Angeles Lakers\"\n",
    "points_line = 27\n",
    "points_over = -113\n",
    "points_under = -113\n",
    "\n",
    "show_all = True # Show whether to print all odds or just the favourable ones\n"
   ]
  },
  {
   "cell_type": "code",
   "execution_count": 136,
   "metadata": {},
   "outputs": [],
   "source": [
    "# Retrieve data\n",
    "\n",
    "source = urllib.request.urlopen(url).read()\n",
    "soup = bs.BeautifulSoup(source,'lxml')\n",
    "table = str(soup.find_all('table')[0])\n",
    "data = pd.read_html(table)[0]\n"
   ]
  },
  {
   "cell_type": "code",
   "execution_count": 137,
   "metadata": {},
   "outputs": [],
   "source": [
    "# Preprocessing\n",
    "\n",
    "data = data.drop(index=data.index[-2:]) # Remove last two rows as they're totals\n",
    "\n",
    "# Turn minutes into a number of minutes\n",
    "def time_to_minutes(time_str):\n",
    "    minutes, seconds = map(int, time_str.split(':'))\n",
    "    return minutes + seconds / 60\n",
    "data[\"Min\"] = data[\"Min\"].apply(time_to_minutes)\n",
    "\n",
    "# Add team's conference to data\n",
    "data[\"Conference\"] = data[\"Opp\"].map(team_conferences) # "
   ]
  },
  {
   "cell_type": "code",
   "execution_count": 138,
   "metadata": {},
   "outputs": [],
   "source": [
    "# Calculate Projection\n",
    "\n",
    "averages = [] # Create list of averages to find mean over\n",
    "\n",
    "# Find way to determine if home or away game?\n",
    "\n",
    "averages.append(((data[\"PTS\"]/data[\"Min\"]) * data[\"Min\"]).mean()) # get the average of average points per minute multiplied by average minutes\n",
    "averages.append(data[:-1][\"PTS\"].iloc[0]) # previous game\n",
    "averages.append(data[-5:][\"PTS\"].mean()) # last 5 games\n",
    "averages.append(data[-10:][\"PTS\"].mean()) # last 10 games \n",
    "if not pd.isna(data[data[\"Opp\"] == opponent][\"PTS\"].mean()): # games where they played the opponent, check to make sure one exists\n",
    "    averages.append(data[data[\"Opp\"] == opponent][\"PTS\"].mean())\n",
    "if not pd.isna(data[data[\"Conference\"] == team_conferences[opponent]][\"PTS\"].mean()): # games where they played the conference, check to make sure one exists\n",
    "    averages.append(data[data[\"Conference\"] == team_conferences[opponent]][\"PTS\"].mean())\n",
    "\n",
    "np_averages = np.array(averages)\n",
    "projected_average = np_averages.mean() # get average of accumulated values"
   ]
  },
  {
   "cell_type": "code",
   "execution_count": 139,
   "metadata": {},
   "outputs": [],
   "source": [
    "# Run Montecarlo \n",
    "\n",
    "std = np.array(data[\"PTS\"]).std()  # calculate standard deviation from point history\n",
    "n = 100000\n",
    "\n",
    "samples = np.random.normal(projected_average, std, n)\n",
    "\n",
    "# Counting how many samples are above the check_value\n",
    "count_above = np.sum(samples > points_line)\n",
    "\n",
    "percentage_over = count_above/n\n",
    "percentage_under = (n - count_above)/n"
   ]
  },
  {
   "cell_type": "code",
   "execution_count": 146,
   "metadata": {},
   "outputs": [
    {
     "data": {
      "text/plain": [
       "0.5305164319248826"
      ]
     },
     "execution_count": 146,
     "metadata": {},
     "output_type": "execute_result"
    }
   ],
   "source": [
    "# Calculate deviated projection as combination of calculated projection and montecarlo\n",
    "\n",
    "def vegas_to_probability(vegas_odds):\n",
    "    \n",
    "    if vegas_odds > 0:\n",
    "        decimal_odds = (vegas_odds / 100) + 1\n",
    "    else:\n",
    "        decimal_odds = (100 / abs(vegas_odds)) + 1\n",
    "\n",
    "    return (1 / decimal_odds)\n",
    "\n",
    "# Iterate over odds?\n",
    "if vegas_to_probability(points_over) > points_over:\n",
    "    print()\n"
   ]
  }
 ],
 "metadata": {
  "kernelspec": {
   "display_name": "Python 3",
   "language": "python",
   "name": "python3"
  },
  "language_info": {
   "codemirror_mode": {
    "name": "ipython",
    "version": 3
   },
   "file_extension": ".py",
   "mimetype": "text/x-python",
   "name": "python",
   "nbconvert_exporter": "python",
   "pygments_lexer": "ipython3",
   "version": "3.9.13"
  }
 },
 "nbformat": 4,
 "nbformat_minor": 2
}
